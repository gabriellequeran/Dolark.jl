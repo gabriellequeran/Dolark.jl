{
 "cells": [
  {
   "cell_type": "markdown",
   "metadata": {},
   "source": [
    "Equations :\n",
    "\n",
    "$$ \\mathcal A(\\mu_t, x_t, y_t, z_t) = 0 $$\n",
    "\n",
    "$$ F(x_t, x_{t+1}, p_t, p_{t+1}) = 0 $$\n",
    "\n",
    "$$ \\mu_{t+1} = G(\\mu_{t}, x_{t})$$\n",
    "\n",
    "$$ p_t = \\mathcal P (y_t,z_t)$$\n"
   ]
  },
  {
   "cell_type": "markdown",
   "metadata": {},
   "source": [
    "After differentiation, we get:\n",
    "\n",
    "$$\\mathcal A_\\mu d\\mu_t + \\mathcal A_x dx_t + \\mathcal A_y dy_t + \\mathcal A_z dz_t =0$$\n",
    "\n",
    "$$ F_{x_t} dx_t + F_{x_{t+1}} dx_{t+1} + F_{p_t} dp_t +   F_{p_{t+1}} dp_{t+1} = 0$$\n",
    "\n",
    "$$ d\\mu_{t+1} = G_\\mu d\\mu_t + G_x dx_t $$\n",
    "\n",
    "$$ dp_t = \\mathcal P_y dy_t + \\mathcal P_z dz_t $$\n",
    "\n",
    "\n",
    "Using the notations commonly used in this package (reminded below),\n",
    "\n",
    "- $F_{p_t} = Fp_1$\n",
    "- $F_{p_{t+1}} = Fp_2$\n",
    "- $F_{x_t} = J$\n",
    "- $F_{x_{t+1}} = L$\n",
    "- $ \\mathcal P_y = rp_y$\n",
    "- $ \\mathcal P_z = rp_z$\n",
    "\n",
    "we get:\n",
    "\n",
    "$$\\mathcal A_\\mu d\\mu_t + \\mathcal A_x dx_t + \\mathcal A_y dy_t + \\mathcal A_z dz_t =0$$\n",
    "\n",
    "$$ J dx_t + L dx_{t+1} + Fp_1 dp_t +   Fp_2 dp_{t+1} = 0$$\n",
    "\n",
    "$$ d\\mu_{t+1} = G_\\mu d\\mu_t + G_x dx_t $$\n",
    "\n",
    "$$ dp_t = rp_y dy_t + rp_z dz_t $$"
   ]
  },
  {
   "cell_type": "markdown",
   "metadata": {},
   "source": [
    "Thus, considering the second equation :\n",
    "\n",
    "$$ dx_t = -J^{-1}(L dx_{t+1} + Fp_1 dp_t +   Fp_2 dp_{t+1}) $$\n",
    "\n",
    "Iterating once, this gives :\n",
    "\n",
    "$$ dx_t = -J^{-1}(L (-J^{-1}(L dx_{t+2} + Fp_1 dp_{t+1} + Fp_2 dp_{t+2}) + Fp_1 dp_t +   Fp_2 dp_{t+1}) $$"
   ]
  },
  {
   "cell_type": "markdown",
   "metadata": {},
   "source": [
    "By iterating multiple times while assuming that we finally reach a steady state, we get :\n",
    "\n",
    "$$ dx_t = -J^{-1} Fp_1 dp_t + \\sum_{s=1}^{+\\infty} -J^{-1}( -LJ^{-1})^{s-1}( -LJ^{-1} Fp_1 + Fp_2)dp_{t+s} $$"
   ]
  },
  {
   "cell_type": "markdown",
   "metadata": {},
   "source": [
    "Now, considering the third equation :\n",
    "\n",
    "$$ d\\mu_{t+1} = G_\\mu d\\mu_t + G_x dx_t  $$\n",
    "\n",
    "So :\n",
    "\n",
    "$$ d\\mu_{t+1} = G_\\mu  (G_\\mu d\\mu_{t-1} + G_x dx_{t-1}) + G_x dx_t$$\n"
   ]
  },
  {
   "cell_type": "markdown",
   "metadata": {},
   "source": [
    "Iterating again multiple times, we get :\n",
    "\n",
    "$$ d\\mu_{t+1} = \\sum_{s=1}^{t+1} G_\\mu ^{s-1} G_x dx_{t+1-s}   $$\n",
    "\n",
    "ie. :\n",
    "\n",
    "$$ d\\mu_{t} = \\sum_{s=1}^{t} G_\\mu ^{s-1} G_x dx_{t-s} $$"
   ]
  },
  {
   "cell_type": "markdown",
   "metadata": {},
   "source": [
    "Injecting the expression of $dx_t$ obtained above, we find that :\n",
    "\n",
    "$$ d\\mu_{t} = \\sum_{s=1}^{t} G_\\mu ^{s-1} G_x \n",
    "\n",
    "(-J^{-1} Fp_1 dp_{t-s} + \\sum_{\\tau=1}^{+\\infty} -J^{-1}( -LJ^{-1})^{\\tau-1}( -LJ^{-1} Fp_1 + Fp_2)dp_{t-s+\\tau})\n",
    "\n",
    "\n",
    "\n",
    " $$"
   ]
  },
  {
   "cell_type": "markdown",
   "metadata": {},
   "source": [
    "Looking now at the first differentiated equation :\n",
    "\n",
    "$$ \\mathcal A_\\mu \n",
    "\n",
    "(\\sum_{s=1}^{t} G_\\mu ^{s-1} G_x \n",
    "\n",
    "(-J^{-1}Fp_1 dp_{t-s} + \\sum_{\\tau=1}^{+\\infty} -J^{-1}( -LJ^{-1})^{\\tau-1}( -LJ^{-1} Fp_1 + Fp_2)dp_{t-s+\\tau}))$$\n",
    "\n",
    "$$+ \\mathcal A_x\n",
    "\n",
    "(-J^{-1}Fp_1 dp_t + \\sum_{s=1}^{+\\infty} -J^{-1}( -LJ^{-1})^{s-1}( -LJ^{-1} Fp_1 + Fp_2)dp_{t+s})$$\n",
    "\n",
    "$$+ \\mathcal A_y \n",
    "\n",
    "dy_t$$\n",
    "\n",
    "$$+ \\mathcal A_z\n",
    "\n",
    "dz_t = 0 $$\n"
   ]
  },
  {
   "cell_type": "markdown",
   "metadata": {},
   "source": [
    "Using the fourth differentiated equation ($dp_t = rp_y dy_t + rp_z dz_t$), we get:\n",
    "\n",
    "$$ \\mathcal A_\\mu \n",
    "\n",
    "(\\sum_{s=1}^{t} G_\\mu ^{s-1} G_x \n",
    "\n",
    "(-J^{-1} Fp_1 * rp_y * dy_{t-s} + \\sum_{\\tau=1}^{+\\infty} -J^{-1}( -LJ^{-1})^{\\tau-1}( -LJ^{-1} Fp_1 + Fp_2)*rp_y * dy_{t-s+\\tau}))$$\n",
    "\n",
    "$$+ \\mathcal A_x\n",
    "\n",
    "(-J^{-1} Fp_1 * rp_y * dy_t + \\sum_{s=1}^{+\\infty} -J^{-1}( -LJ^{-1})^{s-1}( -LJ^{-1} Fp_1 + Fp_2)* rp_y * dy_{t+s})$$\n",
    "\n",
    "$$+ \\mathcal A_y \n",
    "\n",
    "dy_t$$\n",
    "\n",
    "$$ + \\mathcal A_\\mu \n",
    "\n",
    "(\\sum_{s=1}^{t} G_\\mu ^{s-1} G_x \n",
    "\n",
    "(-J^{-1} Fp_1 * rp_z * dz_{t-s} + \\sum_{\\tau=1}^{+\\infty} -J^{-1}( -LJ^{-1})^{\\tau-1}( -LJ^{-1} Fp_1 + Fp_2)*rp_z * dz_{t-s+\\tau}))$$\n",
    "\n",
    "$$+ \\mathcal A_x\n",
    "\n",
    "(-J^{-1} Fp_1 * rp_z * dz_t + \\sum_{s=1}^{+\\infty} -J^{-1}( -LJ^{-1})^{s-1}( -LJ^{-1} Fp_1 + Fp_2)* rp_z * dz_{t+s})$$\n",
    "\n",
    "$$+ \\mathcal A_z\n",
    "\n",
    "dz_t = 0 $$"
   ]
  },
  {
   "cell_type": "markdown",
   "metadata": {},
   "source": [
    "Noting $Y=[y_0, y_1,…, y_T]$ and $Z=[z_0, z_1,…, z_T]$, the equation above can be rewritten under the following form :\n",
    "$$H_Y dY + H_Z dZ = 0$$\n",
    "\n",
    "This will allow to characterize impulse response to perturbations. However, we first have to find the jacobians $H_Y$ and $H_Z$. We will do that approximately in restricting ourselves to an horizon T for the computation of the jacobians."
   ]
  },
  {
   "cell_type": "markdown",
   "metadata": {},
   "source": [
    "We will use :\n",
    "\n",
    "- $dX = [dX_1,…,dX_T]$ such that $dX_i[:,k] =  -J^{-1}( -LJ^{-1})^{i-1}( -LJ^{-1} Fp_1 + Fp_2)* rp * e_k$\n",
    "- $dm = [dm_1,…,dm_T]$ such that $dm_i[:,k] = G_\\mu ^{i-1} * G_x * -J^{-1} * Fp_1 * rp * e_k$\n",
    "- $dM $ such that :\n",
    "    - for T+1≥j≥1: $dM_{1,j}[:,k] = 0$ and $dM_{j,1}[:,k] = 0$\n",
    "    - for T+1≥j≥2: $dM_{2,j}[:,k] = G_x * dX_{j-1}[:,k]$ \n",
    "    - for 3≤i≤T+1 and i≤j≤T+1: $dM_{i,j}[:,k] = dM_{i-1,j-1}[:,k] + G_\\mu * dM_{i-1,j}[:,k] $\n",
    "    - for i>j: $dM_{i,j}[:,k] = G_\\mu * dM_{i-1,j}[:,k] $\n",
    "\n",
    "for any $k≤n_y$ or $k≤n_z$ (according to the case) and $e_k$ a vector of length $n_y$ or $n_z$ with 0 everywhere except in position k where there is a 1."
   ]
  },
  {
   "cell_type": "markdown",
   "metadata": {},
   "source": [
    "This allows to find the jacobians since it leads to:\n",
    "\n",
    "- for $H_Y$:\n",
    "    - if $i==j$, then $\\forall k≤n_y$: $H_{Y_{i,j}}[:,k] = \\mathcal A_y * e_k^y + \\mathcal A_x Fp_1 * rp_y * e_k^y + \\mathcal A_\\mu dM_{i,j}^Y[:,k]$ \n",
    "    - if $i>j$, then $\\forall k≤n_y$: $ H_{Y_{i,j}}[:,k] = \\mathcal A_\\mu (dM_{i,j}^Y[:,k] + dm_{i-j}^Y[:,k])$\n",
    "    - if $i<j$, then $\\forall k≤n_y$: $ H_{Y_{i,j}}[:,k] = \\mathcal A_x * dX_{j-i}^Y[:,k] + \\mathcal A_\\mu dM_{i,j}^Y[:,k]$\n",
    "- for $H_Z$:\n",
    "    - if $i==j$, then $\\forall k≤n_z$: $H_{Z_{i,j}}[:,k] = \\mathcal A_y * e_k^z + \\mathcal A_x Fp_1 * rp_z * e_k^z + \\mathcal A_\\mu dM_{i,j}^Z[:,k]$ \n",
    "    - if $i>j$, then $\\forall k≤n_z$: $ H_{Z_{i,j}}[:,k] = \\mathcal A_\\mu (dM_{i,j}^Z[:,k] + dm_{i-j}^Z[:,k])$\n",
    "    - if $i<j$, then $\\forall k≤n_z$: $ H_{Z_{i,j}}[:,k] = \\mathcal A_x * dX_{j-i}^Z[:,k] + \\mathcal A_\\mu dM_{i,j}^Z[:,k]$\n"
   ]
  }
 ],
 "metadata": {
  "kernelspec": {
   "display_name": "Julia 1.6.3",
   "language": "julia",
   "name": "julia-1.6"
  },
  "language_info": {
   "file_extension": ".jl",
   "mimetype": "application/julia",
   "name": "julia",
   "version": "1.6.3"
  },
  "orig_nbformat": 4
 },
 "nbformat": 4,
 "nbformat_minor": 2
}
